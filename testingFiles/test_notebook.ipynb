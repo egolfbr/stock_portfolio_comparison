{
 "cells": [
  {
   "cell_type": "code",
   "execution_count": 1,
   "metadata": {},
   "outputs": [],
   "source": [
    "import yfinance as yf \n",
    "import numpy as np \n",
    "import pandas as pd \n",
    "import matplotlib.pyplot as plt"
   ]
  },
  {
   "cell_type": "code",
   "execution_count": 2,
   "metadata": {},
   "outputs": [],
   "source": [
    "stocks = ['fsdix']\n",
    "weights = [1]\n"
   ]
  },
  {
   "cell_type": "code",
   "execution_count": 3,
   "metadata": {},
   "outputs": [],
   "source": [
    "sect_totals = {}\n",
    "indus_totals = {}"
   ]
  },
  {
   "cell_type": "code",
   "execution_count": 13,
   "metadata": {},
   "outputs": [],
   "source": [
    "fund = yf.Ticker('spy')"
   ]
  },
  {
   "cell_type": "code",
   "execution_count": 14,
   "metadata": {},
   "outputs": [],
   "source": [
    "d = fund.get_info()"
   ]
  },
  {
   "cell_type": "code",
   "execution_count": 15,
   "metadata": {},
   "outputs": [
    {
     "data": {
      "text/plain": [
       "dict_keys(['exchange', 'shortName', 'longName', 'exchangeTimezoneName', 'exchangeTimezoneShortName', 'isEsgPopulated', 'gmtOffSetMilliseconds', 'quoteType', 'symbol', 'messageBoardId', 'market', 'annualHoldingsTurnover', 'enterpriseToRevenue', 'beta3Year', 'profitMargins', 'enterpriseToEbitda', '52WeekChange', 'morningStarRiskRating', 'forwardEps', 'revenueQuarterlyGrowth', 'fundInceptionDate', 'annualReportExpenseRatio', 'totalAssets', 'bookValue', 'fundFamily', 'lastFiscalYearEnd', 'netIncomeToCommon', 'trailingEps', 'lastDividendValue', 'SandP52WeekChange', 'priceToBook', 'nextFiscalYearEnd', 'yield', 'mostRecentQuarter', 'enterpriseValue', 'priceHint', 'threeYearAverageReturn', 'lastSplitDate', 'lastSplitFactor', 'legalType', 'lastDividendDate', 'morningStarOverallRating', 'earningsQuarterlyGrowth', 'priceToSalesTrailing12Months', 'pegRatio', 'ytdReturn', 'forwardPE', 'maxAge', 'lastCapGain', 'category', 'fiveYearAverageReturn', 'phone', 'longBusinessSummary', 'companyOfficers', 'previousClose', 'regularMarketOpen', 'twoHundredDayAverage', 'trailingAnnualDividendYield', 'payoutRatio', 'volume24Hr', 'regularMarketDayHigh', 'navPrice', 'averageDailyVolume10Day', 'regularMarketPreviousClose', 'fiftyDayAverage', 'trailingAnnualDividendRate', 'open', 'toCurrency', 'averageVolume10days', 'expireDate', 'algorithm', 'dividendRate', 'exDividendDate', 'beta', 'circulatingSupply', 'startDate', 'regularMarketDayLow', 'currency', 'trailingPE', 'regularMarketVolume', 'lastMarket', 'maxSupply', 'openInterest', 'marketCap', 'volumeAllCurrencies', 'strikePrice', 'averageVolume', 'dayLow', 'ask', 'askSize', 'volume', 'fiftyTwoWeekHigh', 'fromCurrency', 'fiveYearAvgDividendYield', 'fiftyTwoWeekLow', 'bid', 'tradeable', 'dividendYield', 'bidSize', 'dayHigh', 'coinMarketCapLink', 'preferredPosition', 'bondPosition', 'convertiblePosition', 'sectorWeightings', 'holdings', 'bondHoldings', 'bondRatings', 'equityHoldings', 'otherPosition', 'cashPosition', 'stockPosition', 'regularMarketPrice', 'preMarketPrice', 'logo_url'])"
      ]
     },
     "execution_count": 15,
     "metadata": {},
     "output_type": "execute_result"
    }
   ],
   "source": [
    "d.keys()"
   ]
  },
  {
   "cell_type": "code",
   "execution_count": 16,
   "metadata": {},
   "outputs": [
    {
     "data": {
      "text/plain": [
       "'ETF'"
      ]
     },
     "execution_count": 16,
     "metadata": {},
     "output_type": "execute_result"
    }
   ],
   "source": [
    "d['quoteType']"
   ]
  },
  {
   "cell_type": "code",
   "execution_count": 17,
   "metadata": {},
   "outputs": [
    {
     "ename": "KeyError",
     "evalue": "'sector'",
     "output_type": "error",
     "traceback": [
      "\u001b[0;31m---------------------------------------------------------------------------\u001b[0m",
      "\u001b[0;31mKeyError\u001b[0m                                  Traceback (most recent call last)",
      "\u001b[1;32m/Users/brianegolf/Desktop/GitHub/stock_portfolio_comparison/testingFiles/test_notebook.ipynb Cell 8\u001b[0m in \u001b[0;36m<cell line: 1>\u001b[0;34m()\u001b[0m\n\u001b[1;32m      <a href='vscode-notebook-cell:/Users/brianegolf/Desktop/GitHub/stock_portfolio_comparison/testingFiles/test_notebook.ipynb#ch0000003?line=2'>3</a>\u001b[0m obj \u001b[39m=\u001b[39m yf\u001b[39m.\u001b[39mTicker(t)\n\u001b[1;32m      <a href='vscode-notebook-cell:/Users/brianegolf/Desktop/GitHub/stock_portfolio_comparison/testingFiles/test_notebook.ipynb#ch0000003?line=3'>4</a>\u001b[0m d \u001b[39m=\u001b[39m obj\u001b[39m.\u001b[39mget_info()\n\u001b[0;32m----> <a href='vscode-notebook-cell:/Users/brianegolf/Desktop/GitHub/stock_portfolio_comparison/testingFiles/test_notebook.ipynb#ch0000003?line=4'>5</a>\u001b[0m sect \u001b[39m=\u001b[39m d[\u001b[39m'\u001b[39;49m\u001b[39msector\u001b[39;49m\u001b[39m'\u001b[39;49m]\n\u001b[1;32m      <a href='vscode-notebook-cell:/Users/brianegolf/Desktop/GitHub/stock_portfolio_comparison/testingFiles/test_notebook.ipynb#ch0000003?line=5'>6</a>\u001b[0m ind \u001b[39m=\u001b[39m d[\u001b[39m'\u001b[39m\u001b[39mindustry\u001b[39m\u001b[39m'\u001b[39m]\n\u001b[1;32m      <a href='vscode-notebook-cell:/Users/brianegolf/Desktop/GitHub/stock_portfolio_comparison/testingFiles/test_notebook.ipynb#ch0000003?line=6'>7</a>\u001b[0m ty \u001b[39m=\u001b[39m d[\u001b[39m'\u001b[39m\u001b[39mquoteType\u001b[39m\u001b[39m'\u001b[39m]\n",
      "\u001b[0;31mKeyError\u001b[0m: 'sector'"
     ]
    }
   ],
   "source": [
    "for t in stocks:\n",
    "    idx = stocks.index(t) \n",
    "    obj = yf.Ticker(t)\n",
    "    d = obj.get_info()\n",
    "    ty = d['quoteType']\n",
    "\n",
    "    if ty == 'MUTUALFUND' or ty == 'ETF':\n",
    "        if ty not in sect_totals.keys():\n",
    "            sect_totals[ty] = weights[idx]\n",
    "        else: \n",
    "            sect_totals[ty] = sect_totals[ty]+ weights[idx]\n",
    "    else:\n",
    "        sect = d['sector']\n",
    "        ind = d['industry']\n",
    "        if sect not in sect_totals.keys(): \n",
    "            sect_totals[sect] = weights[idx]\n",
    "        else: \n",
    "            sect_totals[sect] = sect_totals[sect] + weights[idx]\n",
    "        if ind not in indus_totals.keys(): \n",
    "            indus_totals[ind] = weights[idx]\n",
    "        else: \n",
    "            indus_totals[ind] = indus_totals[ind] + weights[idx]\n"
   ]
  },
  {
   "cell_type": "code",
   "execution_count": 13,
   "metadata": {},
   "outputs": [
    {
     "data": {
      "text/plain": [
       "{'Industrials': 0.3, 'Financial Services': 0.5, 'Energy': 0.2}"
      ]
     },
     "execution_count": 13,
     "metadata": {},
     "output_type": "execute_result"
    }
   ],
   "source": [
    "sect_totals"
   ]
  },
  {
   "cell_type": "code",
   "execution_count": 14,
   "metadata": {},
   "outputs": [
    {
     "data": {
      "text/plain": [
       "{'Conglomerates': 0.3, 'Banks—Diversified': 0.5, 'Oil & Gas Integrated': 0.2}"
      ]
     },
     "execution_count": 14,
     "metadata": {},
     "output_type": "execute_result"
    }
   ],
   "source": [
    "indus_totals"
   ]
  },
  {
   "cell_type": "code",
   "execution_count": 22,
   "metadata": {},
   "outputs": [],
   "source": [
    "testd = yf.Ticker('JNJ').get_info()"
   ]
  },
  {
   "cell_type": "code",
   "execution_count": 33,
   "metadata": {},
   "outputs": [
    {
     "data": {
      "text/plain": [
       "<matplotlib.patches.Circle at 0x1693f3c40>"
      ]
     },
     "execution_count": 33,
     "metadata": {},
     "output_type": "execute_result"
    },
    {
     "data": {
      "image/png": "[encoded data removed]",
      "text/plain": [
       "<Figure size 432x288 with 1 Axes>"
      ]
     },
     "metadata": {},
     "output_type": "display_data"
    }
   ],
   "source": [
    "plt.pie(sect_totals.values(), labels=sect_totals.keys())\n",
    "\n",
    "my_circle = plt.Circle((0,0), 0.7, color='white')\n",
    "p = plt.gca()\n",
    "p.add_artist((my_circle))\n"
   ]
  },
  {
   "cell_type": "code",
   "execution_count": null,
   "metadata": {},
   "outputs": [],
   "source": []
  }
 ],
 "metadata": {
  "kernelspec": {
   "display_name": "Python 3.10.5 64-bit",
   "language": "python",
   "name": "python3"
  },
  "language_info": {
   "codemirror_mode": {
    "name": "ipython",
    "version": 3
   },
   "file_extension": ".py",
   "mimetype": "text/x-python",
   "name": "python",
   "nbconvert_exporter": "python",
   "pygments_lexer": "ipython3",
   "version": "3.10.5"
  },
  "orig_nbformat": 4,
  "vscode": {
   "interpreter": {
    "hash": "aee8b7b246df8f9039afb4144a1f6fd8d2ca17a180786b69acc140d282b71a49"
   }
  }
 },
 "nbformat": 4,
 "nbformat_minor": 2
}
