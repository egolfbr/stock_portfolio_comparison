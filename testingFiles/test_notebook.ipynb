{
 "cells": [
  {
   "cell_type": "code",
   "execution_count": 1,
   "metadata": {},
   "outputs": [],
   "source": [
    "import yfinance as yf \n",
    "import numpy as np \n",
    "import pandas as pd \n"
   ]
  },
  {
   "cell_type": "code",
   "execution_count": 16,
   "metadata": {},
   "outputs": [],
   "source": [
    "stocks = ['MMM','JPM','CVX']\n",
    "weights = [0.3,0.5, 0.2]\n",
    "init_invest = 1000\n",
    "recurring_deposit = 50\n",
    "# 1 = yearly, 4 = quarterly, 12 = monthly, 0 = never\n",
    "recurring_rate = 12\n",
    "\n",
    "start_prices = [140.75, 113.42, 147.32]\n",
    "start_ann_div_per_share = [5.88, 4.00, 5.68]\n",
    "div_freq = [4, 4, 4]\n",
    "div_cagr = [10.99, 15.41, 5.07]\n",
    "stock_cagr = [7.50, 4.44, 7.02]\n",
    "per = '5y'\n",
    "init_shares = []\n",
    "forcast_length_in_months = 12*50\n",
    "dataframes = []"
   ]
  },
  {
   "cell_type": "code",
   "execution_count": 17,
   "metadata": {},
   "outputs": [],
   "source": [
    "for i in range(len(stocks)):\n",
    "    init_shares_stock = (init_invest * weights[i]) / start_prices[i]\n",
    "    init_shares.append(init_shares_stock) \n",
    "    d = {\n",
    "            \"year\" : 1, \n",
    "            \"month\" : 1, \n",
    "            \"deposit\" : init_invest*weights[i],\n",
    "            'price' : start_prices[i],\n",
    "            \"purchased shares\" : init_shares[i],\n",
    "            'dividend' : 0,\n",
    "            'dividend shares' : 0 ,\n",
    "            'Cumlative Shares' : init_shares[i],\n",
    "            'Ann. Div/Share' : start_ann_div_per_share[i],\n",
    "            'Value of Shares' : init_shares[i] * start_prices[i]\n",
    "        }\n",
    "    dataframes.append(pd.DataFrame(d, index=[0]))\n",
    "    dataframes[-1].name = stocks[i]"
   ]
  },
  {
   "cell_type": "code",
   "execution_count": 28,
   "metadata": {},
   "outputs": [],
   "source": [
    "totals = {\n",
    "        \"year\" : 1, \n",
    "        \"month\" : 1, \n",
    "        \"deposit\" : init_invest,\n",
    "        \"purchased shares\" : sum(init_shares),\n",
    "        'dividend' : 0,\n",
    "        'dividend shares' : 0 ,\n",
    "        'Cumlative Shares' : sum(init_shares),\n",
    "        'Ann. Div/Share' : sum(start_ann_div_per_share),\n",
    "        'Value of Shares' : np.dot(init_shares, start_prices) \n",
    "}"
   ]
  },
  {
   "cell_type": "code",
   "execution_count": 18,
   "metadata": {},
   "outputs": [],
   "source": [
    "fidx = 0\n",
    "for frame in dataframes:\n",
    "    for i in range(1, forcast_length_in_months):\n",
    "        # determine the year value\n",
    "        if frame.iloc[i-1]['month'] == 12: \n",
    "            current_year = frame.iloc[i-1]['year'] + 1\n",
    "        else:\n",
    "            current_year = frame.iloc[i-1]['year']\n",
    "\n",
    "        # determine the month \n",
    "        if frame.iloc[i-1]['month'] != 12: \n",
    "            current_month = frame.iloc[i-1]['month'] + 1\n",
    "        else:\n",
    "            current_month = 1\n",
    "\n",
    "        # Determine Deposit \n",
    "        if np.mod(current_month, 12/recurring_rate) == 0: \n",
    "            # we are in a deposit month \n",
    "            deposit = recurring_deposit * weights[fidx]\n",
    "        else: \n",
    "            deposit = 0 \n",
    "        \n",
    "        # determine the price \n",
    "        price = frame.iloc[i-1]['price'] + frame.iloc[i-1]['price'] * ((stock_cagr[fidx]/100)/12)\n",
    "\n",
    "        purchased_shares = deposit / price \n",
    "\n",
    "        if np.mod(current_month, 12/div_freq[fidx]) == 0: \n",
    "            div = frame.iloc[i-1]['Cumlative Shares'] * frame.iloc[i-1]['Ann. Div/Share']/(div_freq[fidx])\n",
    "        else: \n",
    "            div = 0 \n",
    "\n",
    "        div_shares = div/price \n",
    "\n",
    "        cum_shares = div_shares + purchased_shares + frame.iloc[i-1]['Cumlative Shares']\n",
    "\n",
    "        if frame.iloc[i-1]['month'] == 12: \n",
    "            #update div\n",
    "            new_div = frame.iloc[i-1]['Ann. Div/Share'] + frame.iloc[i-1]['Ann. Div/Share'] * (div_cagr[fidx]/100)\n",
    "        else: \n",
    "            new_div = frame.iloc[i-1]['Ann. Div/Share']\n",
    "\n",
    "        value = cum_shares * price\n",
    "\n",
    "        row = [current_year, current_month, deposit, price, purchased_shares, div, div_shares, cum_shares, new_div, value]\n",
    "\n",
    "        frame.loc[len(frame)] = row\n",
    "    fidx = fidx + 1\n",
    "         \n",
    "\n",
    "\n",
    "\n",
    "    "
   ]
  },
  {
   "cell_type": "code",
   "execution_count": 31,
   "metadata": {},
   "outputs": [],
   "source": [
    "totals = pd.DataFrame(totals, index=[0])\n",
    "for r in range(1, len( dataframes[0])):\n",
    "    \n",
    "     \n",
    "    deposit = 0\n",
    "    purchased = 0\n",
    "    divs = 0\n",
    "    div_shares = 0\n",
    "    shares = 0\n",
    "    divPerShare_ann = 0\n",
    "    value = 0\n",
    "\n",
    "    if frame.iloc[r-1]['month'] == 12: \n",
    "            current_year = frame.iloc[r-1]['year'] + 1\n",
    "    else:\n",
    "            current_year = frame.iloc[r-1]['year']\n",
    "\n",
    "        # determine the month \n",
    "    if frame.iloc[i-1]['month'] != 12: \n",
    "            current_month = frame.iloc[r-1]['month'] + 1\n",
    "    else:\n",
    "            current_month = 1\n",
    "    \n",
    "    for frame in dataframes:\n",
    "        deposit = deposit + frame.iloc[r]['deposit']\n",
    "        purchased = purchased + frame.iloc[r]['purchased shares']\n",
    "        divs = divs + frame.iloc[r]['dividend']\n",
    "        div_shares = div_shares + frame.iloc[r]['dividend shares']\n",
    "        shares = shares + frame.iloc[r]['Cumlative Shares']\n",
    "        divPerShare_ann = divPerShare_ann + frame.iloc[r]['Ann. Div/Share']\n",
    "        value = value + frame.iloc[r]['Value of Shares']\n",
    "    row = [current_year, current_month, deposit, purchased, divs, div_shares, shares, divPerShare_ann, value]\n",
    "    totals.loc[len(totals)] = row\n",
    "\n"
   ]
  },
  {
   "cell_type": "code",
   "execution_count": 33,
   "metadata": {},
   "outputs": [],
   "source": [
    "import matplotlib.pyplot as plt"
   ]
  },
  {
   "cell_type": "code",
   "execution_count": 40,
   "metadata": {},
   "outputs": [
    {
     "data": {
      "text/plain": [
       "[<matplotlib.lines.Line2D at 0x12f548880>]"
      ]
     },
     "execution_count": 40,
     "metadata": {},
     "output_type": "execute_result"
    },
    {
     "data": {
      "image/png": "[encoded data removed]",
      "text/plain": [
       "<Figure size 432x288 with 1 Axes>"
      ]
     },
     "metadata": {
      "needs_background": "light"
     },
     "output_type": "display_data"
    }
   ],
   "source": [
    "plt.plot(dataframes[0]['Value of Shares'][:])"
   ]
  }
 ],
 "metadata": {
  "kernelspec": {
   "display_name": "Python 3.10.5 64-bit",
   "language": "python",
   "name": "python3"
  },
  "language_info": {
   "codemirror_mode": {
    "name": "ipython",
    "version": 3
   },
   "file_extension": ".py",
   "mimetype": "text/x-python",
   "name": "python",
   "nbconvert_exporter": "python",
   "pygments_lexer": "ipython3",
   "version": "3.10.5"
  },
  "orig_nbformat": 4,
  "vscode": {
   "interpreter": {
    "hash": "aee8b7b246df8f9039afb4144a1f6fd8d2ca17a180786b69acc140d282b71a49"
   }
  }
 },
 "nbformat": 4,
 "nbformat_minor": 2
}
