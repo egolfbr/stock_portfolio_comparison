{
 "cells": [
  {
   "cell_type": "code",
   "execution_count": 5,
   "metadata": {},
   "outputs": [],
   "source": [
    "import numpy as np \n",
    "import pandas as pd\n",
    "import matplotlib.pyplot as plt\n",
    "from scipy.signal import find_peaks\n",
    "import tensorflow as tf\n",
    "import keras \n",
    "from keras.models import Sequential\n",
    "from keras.layers import Dense \n",
    "from sklearn.model_selection import train_test_split\n",
    "from sklearn.preprocessing import StandardScaler\n",
    "from tensorflow.keras.utils import to_categorical\n",
    "from xmlrpc.client import MAXINT\n",
    "import yfinance as yf"
   ]
  },
  {
   "cell_type": "code",
   "execution_count": 95,
   "metadata": {},
   "outputs": [
    {
     "name": "stdout",
     "output_type": "stream",
     "text": [
      "[*********************100%***********************]  1 of 1 completed\n",
      "869\n"
     ]
    }
   ],
   "source": [
    "data = yf.download(\"INTC\",period='6mo',interval='1h')\n",
    "print(len(data))"
   ]
  },
  {
   "cell_type": "code",
   "execution_count": 96,
   "metadata": {},
   "outputs": [
    {
     "data": {
      "text/html": [
       "<div>\n",
       "<style scoped>\n",
       "    .dataframe tbody tr th:only-of-type {\n",
       "        vertical-align: middle;\n",
       "    }\n",
       "\n",
       "    .dataframe tbody tr th {\n",
       "        vertical-align: top;\n",
       "    }\n",
       "\n",
       "    .dataframe thead th {\n",
       "        text-align: right;\n",
       "    }\n",
       "</style>\n",
       "<table border=\"1\" class=\"dataframe\">\n",
       "  <thead>\n",
       "    <tr style=\"text-align: right;\">\n",
       "      <th></th>\n",
       "      <th>Open</th>\n",
       "      <th>High</th>\n",
       "      <th>Low</th>\n",
       "      <th>Close</th>\n",
       "      <th>Adj Close</th>\n",
       "      <th>Volume</th>\n",
       "    </tr>\n",
       "  </thead>\n",
       "  <tbody>\n",
       "    <tr>\n",
       "      <th>2021-12-22 09:30:00-05:00</th>\n",
       "      <td>50.639999</td>\n",
       "      <td>50.680000</td>\n",
       "      <td>50.209999</td>\n",
       "      <td>50.509998</td>\n",
       "      <td>50.509998</td>\n",
       "      <td>3461086</td>\n",
       "    </tr>\n",
       "    <tr>\n",
       "      <th>2021-12-22 10:30:00-05:00</th>\n",
       "      <td>50.514999</td>\n",
       "      <td>50.834999</td>\n",
       "      <td>50.459999</td>\n",
       "      <td>50.790001</td>\n",
       "      <td>50.790001</td>\n",
       "      <td>2242704</td>\n",
       "    </tr>\n",
       "    <tr>\n",
       "      <th>2021-12-22 11:30:00-05:00</th>\n",
       "      <td>50.799999</td>\n",
       "      <td>50.919998</td>\n",
       "      <td>50.730000</td>\n",
       "      <td>50.802700</td>\n",
       "      <td>50.802700</td>\n",
       "      <td>1710248</td>\n",
       "    </tr>\n",
       "    <tr>\n",
       "      <th>2021-12-22 12:30:00-05:00</th>\n",
       "      <td>50.805000</td>\n",
       "      <td>50.915001</td>\n",
       "      <td>50.702099</td>\n",
       "      <td>50.770000</td>\n",
       "      <td>50.770000</td>\n",
       "      <td>1700220</td>\n",
       "    </tr>\n",
       "    <tr>\n",
       "      <th>2021-12-22 13:30:00-05:00</th>\n",
       "      <td>50.779999</td>\n",
       "      <td>50.830002</td>\n",
       "      <td>50.654999</td>\n",
       "      <td>50.692799</td>\n",
       "      <td>50.692799</td>\n",
       "      <td>1215270</td>\n",
       "    </tr>\n",
       "  </tbody>\n",
       "</table>\n",
       "</div>"
      ],
      "text/plain": [
       "                                Open       High        Low      Close  \\\n",
       "2021-12-22 09:30:00-05:00  50.639999  50.680000  50.209999  50.509998   \n",
       "2021-12-22 10:30:00-05:00  50.514999  50.834999  50.459999  50.790001   \n",
       "2021-12-22 11:30:00-05:00  50.799999  50.919998  50.730000  50.802700   \n",
       "2021-12-22 12:30:00-05:00  50.805000  50.915001  50.702099  50.770000   \n",
       "2021-12-22 13:30:00-05:00  50.779999  50.830002  50.654999  50.692799   \n",
       "\n",
       "                           Adj Close   Volume  \n",
       "2021-12-22 09:30:00-05:00  50.509998  3461086  \n",
       "2021-12-22 10:30:00-05:00  50.790001  2242704  \n",
       "2021-12-22 11:30:00-05:00  50.802700  1710248  \n",
       "2021-12-22 12:30:00-05:00  50.770000  1700220  \n",
       "2021-12-22 13:30:00-05:00  50.692799  1215270  "
      ]
     },
     "execution_count": 96,
     "metadata": {},
     "output_type": "execute_result"
    }
   ],
   "source": [
    "data.head()"
   ]
  },
  {
   "cell_type": "code",
   "execution_count": 97,
   "metadata": {},
   "outputs": [
    {
     "data": {
      "text/html": [
       "<div>\n",
       "<style scoped>\n",
       "    .dataframe tbody tr th:only-of-type {\n",
       "        vertical-align: middle;\n",
       "    }\n",
       "\n",
       "    .dataframe tbody tr th {\n",
       "        vertical-align: top;\n",
       "    }\n",
       "\n",
       "    .dataframe thead th {\n",
       "        text-align: right;\n",
       "    }\n",
       "</style>\n",
       "<table border=\"1\" class=\"dataframe\">\n",
       "  <thead>\n",
       "    <tr style=\"text-align: right;\">\n",
       "      <th></th>\n",
       "      <th>Open</th>\n",
       "      <th>High</th>\n",
       "      <th>Low</th>\n",
       "      <th>Close</th>\n",
       "      <th>Adj Close</th>\n",
       "      <th>Volume</th>\n",
       "    </tr>\n",
       "  </thead>\n",
       "  <tbody>\n",
       "    <tr>\n",
       "      <th>2022-06-21 12:30:00-04:00</th>\n",
       "      <td>37.746498</td>\n",
       "      <td>37.830002</td>\n",
       "      <td>37.709999</td>\n",
       "      <td>37.740002</td>\n",
       "      <td>37.740002</td>\n",
       "      <td>1988913</td>\n",
       "    </tr>\n",
       "    <tr>\n",
       "      <th>2022-06-21 13:30:00-04:00</th>\n",
       "      <td>37.740002</td>\n",
       "      <td>37.820000</td>\n",
       "      <td>37.650002</td>\n",
       "      <td>37.772400</td>\n",
       "      <td>37.772400</td>\n",
       "      <td>2223710</td>\n",
       "    </tr>\n",
       "    <tr>\n",
       "      <th>2022-06-21 14:30:00-04:00</th>\n",
       "      <td>37.779999</td>\n",
       "      <td>37.886700</td>\n",
       "      <td>37.680000</td>\n",
       "      <td>37.779999</td>\n",
       "      <td>37.779999</td>\n",
       "      <td>5066715</td>\n",
       "    </tr>\n",
       "    <tr>\n",
       "      <th>2022-06-21 15:30:00-04:00</th>\n",
       "      <td>37.779999</td>\n",
       "      <td>37.840000</td>\n",
       "      <td>37.680000</td>\n",
       "      <td>37.709999</td>\n",
       "      <td>37.709999</td>\n",
       "      <td>4226379</td>\n",
       "    </tr>\n",
       "    <tr>\n",
       "      <th>2022-06-21 16:00:00-04:00</th>\n",
       "      <td>37.730000</td>\n",
       "      <td>37.730000</td>\n",
       "      <td>37.730000</td>\n",
       "      <td>37.730000</td>\n",
       "      <td>37.730000</td>\n",
       "      <td>0</td>\n",
       "    </tr>\n",
       "  </tbody>\n",
       "</table>\n",
       "</div>"
      ],
      "text/plain": [
       "                                Open       High        Low      Close  \\\n",
       "2022-06-21 12:30:00-04:00  37.746498  37.830002  37.709999  37.740002   \n",
       "2022-06-21 13:30:00-04:00  37.740002  37.820000  37.650002  37.772400   \n",
       "2022-06-21 14:30:00-04:00  37.779999  37.886700  37.680000  37.779999   \n",
       "2022-06-21 15:30:00-04:00  37.779999  37.840000  37.680000  37.709999   \n",
       "2022-06-21 16:00:00-04:00  37.730000  37.730000  37.730000  37.730000   \n",
       "\n",
       "                           Adj Close   Volume  \n",
       "2022-06-21 12:30:00-04:00  37.740002  1988913  \n",
       "2022-06-21 13:30:00-04:00  37.772400  2223710  \n",
       "2022-06-21 14:30:00-04:00  37.779999  5066715  \n",
       "2022-06-21 15:30:00-04:00  37.709999  4226379  \n",
       "2022-06-21 16:00:00-04:00  37.730000        0  "
      ]
     },
     "execution_count": 97,
     "metadata": {},
     "output_type": "execute_result"
    }
   ],
   "source": [
    "data.tail()"
   ]
  },
  {
   "cell_type": "code",
   "execution_count": 98,
   "metadata": {},
   "outputs": [],
   "source": [
    "close = data['Close']"
   ]
  },
  {
   "cell_type": "code",
   "execution_count": 99,
   "metadata": {},
   "outputs": [
    {
     "data": {
      "text/plain": [
       "[<matplotlib.lines.Line2D at 0x7fb5f2585310>]"
      ]
     },
     "execution_count": 99,
     "metadata": {},
     "output_type": "execute_result"
    },
    {
     "data": {
      "image/png": "[encoded data removed]",
      "text/plain": [
       "<Figure size 432x288 with 1 Axes>"
      ]
     },
     "metadata": {
      "needs_background": "light"
     },
     "output_type": "display_data"
    }
   ],
   "source": [
    "plt.plot(close)"
   ]
  },
  {
   "cell_type": "code",
   "execution_count": 102,
   "metadata": {},
   "outputs": [
    {
     "data": {
      "image/png": "[encoded data removed]",
      "text/plain": [
       "<Figure size 432x288 with 1 Axes>"
      ]
     },
     "metadata": {
      "needs_background": "light"
     },
     "output_type": "display_data"
    }
   ],
   "source": [
    "n, bins, p = plt.hist(close,bins=75)"
   ]
  },
  {
   "cell_type": "code",
   "execution_count": 115,
   "metadata": {},
   "outputs": [
    {
     "data": {
      "text/plain": [
       "<BarContainer object of 50 artists>"
      ]
     },
     "execution_count": 115,
     "metadata": {},
     "output_type": "execute_result"
    },
    {
     "data": {
      "image/png": "[encoded data removed]",
      "text/plain": [
       "<Figure size 432x288 with 1 Axes>"
      ]
     },
     "metadata": {
      "needs_background": "light"
     },
     "output_type": "display_data"
    }
   ],
   "source": [
    "counts, edges = np.histogram(close, bins=50)\n",
    "plt.bar(edges[:-1], counts)\n"
   ]
  },
  {
   "cell_type": "code",
   "execution_count": 117,
   "metadata": {},
   "outputs": [
    {
     "data": {
      "text/plain": [
       "9"
      ]
     },
     "execution_count": 117,
     "metadata": {},
     "output_type": "execute_result"
    }
   ],
   "source": [
    "peaks = find_peaks(counts)[0]\n",
    "len(peaks)"
   ]
  },
  {
   "cell_type": "code",
   "execution_count": 89,
   "metadata": {},
   "outputs": [],
   "source": [
    "def get_x_locs_minimal(data):\n",
    "    counts, edges = np.histogram(data, bins=50)\n",
    "    peaks = find_peaks(counts)[0]\n",
    "    x_locs = []\n",
    "    for j in peaks:\n",
    "        x_locs.append(edges[j])\n",
    "    return x_locs"
   ]
  },
  {
   "cell_type": "code",
   "execution_count": 22,
   "metadata": {},
   "outputs": [],
   "source": [
    "def interpolate(x, map_vals):\n",
    "    \"\"\"\n",
    "    Method to map values of x to their closest value in the map values list \n",
    "\n",
    "    Parameters: \n",
    "        - x: list or array like iterable that is to be mapped\n",
    "        - map_vals: list or array like iterable that serves as the mapping for X\n",
    "\n",
    "    Returns: \n",
    "        - new_data: numpy array \n",
    "    \"\"\"\n",
    "    new_data = []\n",
    "    # for each number in x\n",
    "    for num in x:\n",
    "        min_dist = MAXINT\n",
    "        val = num\n",
    "        for i in map_vals:\n",
    "            dist = abs(num - i)\n",
    "            if dist < min_dist:\n",
    "                min_dist = dist\n",
    "                val = i\n",
    "        new_data.append(val)\n",
    "\n",
    "    return np.asarray(new_data)"
   ]
  },
  {
   "cell_type": "code",
   "execution_count": 23,
   "metadata": {},
   "outputs": [],
   "source": [
    "def find_closest_val(element, arr):\n",
    "    \"\"\"\n",
    "    Method to find the closest element in arr to the element passed in \n",
    "\n",
    "    Parameters: \n",
    "        - element: int\n",
    "        - arr: unique values\n",
    "    Returns: \n",
    "        - idx: int, index of the closest value\n",
    "    \"\"\"\n",
    "    min_diff = 1000000\n",
    "    idx = -1\n",
    "    for number in arr:\n",
    "        diff = abs(element - number)\n",
    "        if diff < min_diff:\n",
    "            min_diff = diff\n",
    "            idx = arr.index(number)\n",
    "\n",
    "    return idx"
   ]
  },
  {
   "cell_type": "code",
   "execution_count": 24,
   "metadata": {},
   "outputs": [],
   "source": [
    "def transform_list(arr, unique_vals):\n",
    "    \"\"\"\n",
    "     Method to transform the list from high values to indicies of where those occur in the uniques values array \n",
    "     Parameters: \n",
    "        - arr: array or list like iterable \n",
    "        - unique_vals: array or list like iterable that contains all the unique values of arr\n",
    "    Return: \n",
    "        - arr/list\n",
    "\"\"\"\n",
    "    new_list = []\n",
    "    for elm in arr:\n",
    "        if elm not in unique_vals:\n",
    "            tmp = unique_vals[find_closest_val(elm, unique_vals)]\n",
    "            new_list.append(tmp)\n",
    "        else:\n",
    "            new_list.append(np.where(unique_vals == elm))\n",
    "    new_list = np.asarray(new_list)\n",
    "    new_list = new_list.reshape(-1)\n",
    "    return new_list"
   ]
  },
  {
   "cell_type": "code",
   "execution_count": 25,
   "metadata": {},
   "outputs": [],
   "source": [
    "def preprocess_data_classification(corrupted, wsz, scaler, x_locs):\n",
    "    \"\"\"\n",
    "    Method to preprocess the data for classification models\n",
    "    Parameters: \n",
    "        - pri_data: numpy array array of pri_data\n",
    "        - wsz: int, window size\n",
    "        - scaler: Scaler object, example: StandardScaler, MinMaxScaler\n",
    "\n",
    "    Returns \n",
    "        - x_train, x_test, y_train, y_test: arrays or list like iterables of all the data\n",
    "    \"\"\"\n",
    "    interp_data = interpolate(corrupted, x_locs)\n",
    "    transformed_1 = transform_list(interp_data, list(x_locs))\n",
    "    y_list = []\n",
    "    for i in range(len(transformed_1) - (wsz)):\n",
    "        y_list.append(transformed_1[i+wsz])\n",
    "    y_data_cat = to_categorical(y_list, num_classes=len(x_locs))\n",
    "    y_data = np.asarray(y_data_cat)\n",
    "    corrupted = corrupted.reshape(-1, 1)\n",
    "    # Fit and transform to the scaler object\n",
    "    scaler.fit(corrupted)\n",
    "    corrupted = scaler.transform(corrupted)\n",
    "    # list to hold x_data\n",
    "    x_data = []\n",
    "    # Slide window over data and save the window as X and the next PRI as Y\n",
    "    for i in range(len(corrupted)-(wsz)):\n",
    "        x_data.append(corrupted[i:i+wsz])\n",
    "    x_data = np.asarray(x_data)\n",
    "    # fix x data structure\n",
    "    x_data = x_data.reshape(-1, wsz)\n",
    "\n",
    "    x_train, x_test, y_train, y_test = train_test_split(\n",
    "        x_data, y_data, train_size=0.3, random_state=42)\n",
    "    return x_train, x_test, y_train, y_test"
   ]
  },
  {
   "cell_type": "code",
   "execution_count": 90,
   "metadata": {},
   "outputs": [],
   "source": [
    "xlocs = get_x_locs_minimal(close)\n"
   ]
  },
  {
   "cell_type": "code",
   "execution_count": 91,
   "metadata": {},
   "outputs": [
    {
     "data": {
      "text/plain": [
       "25"
      ]
     },
     "execution_count": 91,
     "metadata": {},
     "output_type": "execute_result"
    }
   ],
   "source": [
    "len(xlocs)"
   ]
  },
  {
   "cell_type": "code",
   "execution_count": 82,
   "metadata": {},
   "outputs": [],
   "source": [
    "close = np.asarray(close)"
   ]
  },
  {
   "cell_type": "code",
   "execution_count": 83,
   "metadata": {},
   "outputs": [
    {
     "ename": "IndexError",
     "evalue": "list index out of range",
     "output_type": "error",
     "traceback": [
      "\u001b[0;31m---------------------------------------------------------------------------\u001b[0m",
      "\u001b[0;31mIndexError\u001b[0m                                Traceback (most recent call last)",
      "\u001b[1;32m/Users/brianegolf/Desktop/stock_predictor/workspace.ipynb Cell 15'\u001b[0m in \u001b[0;36m<cell line: 1>\u001b[0;34m()\u001b[0m\n\u001b[0;32m----> <a href='vscode-notebook-cell:/Users/brianegolf/Desktop/stock_predictor/workspace.ipynb#ch0000017?line=0'>1</a>\u001b[0m xtrain, xtest, ytrain, ytest \u001b[39m=\u001b[39m preprocess_data_classification(close,\u001b[39m7\u001b[39;49m,StandardScaler(), xlocs)\n",
      "\u001b[1;32m/Users/brianegolf/Desktop/stock_predictor/workspace.ipynb Cell 12'\u001b[0m in \u001b[0;36mpreprocess_data_classification\u001b[0;34m(corrupted, wsz, scaler, x_locs)\u001b[0m\n\u001b[1;32m      <a href='vscode-notebook-cell:/Users/brianegolf/Desktop/stock_predictor/workspace.ipynb#ch0000016?line=1'>2</a>\u001b[0m \u001b[39m\"\"\"\u001b[39;00m\n\u001b[1;32m      <a href='vscode-notebook-cell:/Users/brianegolf/Desktop/stock_predictor/workspace.ipynb#ch0000016?line=2'>3</a>\u001b[0m \u001b[39mMethod to preprocess the data for classification models\u001b[39;00m\n\u001b[1;32m      <a href='vscode-notebook-cell:/Users/brianegolf/Desktop/stock_predictor/workspace.ipynb#ch0000016?line=3'>4</a>\u001b[0m \u001b[39mParameters: \u001b[39;00m\n\u001b[0;32m   (...)\u001b[0m\n\u001b[1;32m     <a href='vscode-notebook-cell:/Users/brianegolf/Desktop/stock_predictor/workspace.ipynb#ch0000016?line=9'>10</a>\u001b[0m \u001b[39m    - x_train, x_test, y_train, y_test: arrays or list like iterables of all the data\u001b[39;00m\n\u001b[1;32m     <a href='vscode-notebook-cell:/Users/brianegolf/Desktop/stock_predictor/workspace.ipynb#ch0000016?line=10'>11</a>\u001b[0m \u001b[39m\"\"\"\u001b[39;00m\n\u001b[1;32m     <a href='vscode-notebook-cell:/Users/brianegolf/Desktop/stock_predictor/workspace.ipynb#ch0000016?line=11'>12</a>\u001b[0m interp_data \u001b[39m=\u001b[39m interpolate(corrupted, x_locs)\n\u001b[0;32m---> <a href='vscode-notebook-cell:/Users/brianegolf/Desktop/stock_predictor/workspace.ipynb#ch0000016?line=12'>13</a>\u001b[0m transformed_1 \u001b[39m=\u001b[39m transform_list(interp_data, \u001b[39mlist\u001b[39;49m(x_locs))\n\u001b[1;32m     <a href='vscode-notebook-cell:/Users/brianegolf/Desktop/stock_predictor/workspace.ipynb#ch0000016?line=13'>14</a>\u001b[0m y_list \u001b[39m=\u001b[39m []\n\u001b[1;32m     <a href='vscode-notebook-cell:/Users/brianegolf/Desktop/stock_predictor/workspace.ipynb#ch0000016?line=14'>15</a>\u001b[0m \u001b[39mfor\u001b[39;00m i \u001b[39min\u001b[39;00m \u001b[39mrange\u001b[39m(\u001b[39mlen\u001b[39m(transformed_1) \u001b[39m-\u001b[39m (wsz)):\n",
      "\u001b[1;32m/Users/brianegolf/Desktop/stock_predictor/workspace.ipynb Cell 11'\u001b[0m in \u001b[0;36mtransform_list\u001b[0;34m(arr, unique_vals)\u001b[0m\n\u001b[1;32m     <a href='vscode-notebook-cell:/Users/brianegolf/Desktop/stock_predictor/workspace.ipynb#ch0000015?line=10'>11</a>\u001b[0m \u001b[39mfor\u001b[39;00m elm \u001b[39min\u001b[39;00m arr:\n\u001b[1;32m     <a href='vscode-notebook-cell:/Users/brianegolf/Desktop/stock_predictor/workspace.ipynb#ch0000015?line=11'>12</a>\u001b[0m     \u001b[39mif\u001b[39;00m elm \u001b[39mnot\u001b[39;00m \u001b[39min\u001b[39;00m unique_vals:\n\u001b[0;32m---> <a href='vscode-notebook-cell:/Users/brianegolf/Desktop/stock_predictor/workspace.ipynb#ch0000015?line=12'>13</a>\u001b[0m         tmp \u001b[39m=\u001b[39m unique_vals[find_closest_val(elm, unique_vals)]\n\u001b[1;32m     <a href='vscode-notebook-cell:/Users/brianegolf/Desktop/stock_predictor/workspace.ipynb#ch0000015?line=13'>14</a>\u001b[0m         new_list\u001b[39m.\u001b[39mappend(tmp)\n\u001b[1;32m     <a href='vscode-notebook-cell:/Users/brianegolf/Desktop/stock_predictor/workspace.ipynb#ch0000015?line=14'>15</a>\u001b[0m     \u001b[39melse\u001b[39;00m:\n",
      "\u001b[0;31mIndexError\u001b[0m: list index out of range"
     ]
    }
   ],
   "source": [
    "xtrain, xtest, ytrain, ytest = preprocess_data_classification(close,7,StandardScaler(), xlocs)"
   ]
  },
  {
   "cell_type": "code",
   "execution_count": 52,
   "metadata": {},
   "outputs": [
    {
     "data": {
      "text/plain": [
       "300"
      ]
     },
     "execution_count": 52,
     "metadata": {},
     "output_type": "execute_result"
    }
   ],
   "source": [
    "len(xtrain)"
   ]
  },
  {
   "cell_type": "code",
   "execution_count": 50,
   "metadata": {},
   "outputs": [],
   "source": [
    "xval = xtrain[-10:]\n",
    "yval = ytrain[-10:]\n",
    "\n",
    "xtrain = xtrain[:-10]\n",
    "ytrain = ytrain[:-10]"
   ]
  },
  {
   "cell_type": "code",
   "execution_count": 51,
   "metadata": {},
   "outputs": [],
   "source": [
    "model = Sequential()\n",
    "model.add(Dense(7,activation='relu', input_shape=(7,)))\n",
    "model.add(Dense(4, activation='relu'))\n",
    "model.add(Dense(3, activation='relu'))\n",
    "model.add(Dense(len(xlocs),activation='softmax'))\n",
    "optimizer = tf.keras.optimizers.Adam(learning_rate=0.005)\n",
    "model.compile(optimizer=optimizer, loss='categorical_crossentropy',metrics=['accuracy'])"
   ]
  },
  {
   "cell_type": "code",
   "execution_count": 53,
   "metadata": {},
   "outputs": [
    {
     "name": "stdout",
     "output_type": "stream",
     "text": [
      "Epoch 1/100\n",
      "10/10 [==============================] - 1s 1ms/step - loss: 0.9784 - accuracy: 0.7267\n",
      "Epoch 2/100\n",
      "10/10 [==============================] - 0s 3ms/step - loss: 0.8858 - accuracy: 0.7933\n",
      "Epoch 3/100\n",
      "10/10 [==============================] - 0s 3ms/step - loss: 0.8123 - accuracy: 0.8033\n",
      "Epoch 4/100\n",
      "10/10 [==============================] - 0s 4ms/step - loss: 0.7438 - accuracy: 0.8567\n",
      "Epoch 5/100\n",
      "10/10 [==============================] - 0s 3ms/step - loss: 0.6794 - accuracy: 0.8933\n",
      "Epoch 6/100\n",
      "10/10 [==============================] - 0s 3ms/step - loss: 0.6169 - accuracy: 0.9300\n",
      "Epoch 7/100\n",
      "10/10 [==============================] - 0s 2ms/step - loss: 0.5500 - accuracy: 0.9433\n",
      "Epoch 8/100\n",
      "10/10 [==============================] - 0s 2ms/step - loss: 0.4909 - accuracy: 0.9600\n",
      "Epoch 9/100\n",
      "10/10 [==============================] - 0s 2ms/step - loss: 0.4338 - accuracy: 0.9700\n",
      "Epoch 10/100\n",
      "10/10 [==============================] - 0s 1ms/step - loss: 0.3877 - accuracy: 0.9667\n",
      "Epoch 11/100\n",
      "10/10 [==============================] - 0s 16ms/step - loss: 0.3416 - accuracy: 0.9733\n",
      "Epoch 12/100\n",
      "10/10 [==============================] - 0s 3ms/step - loss: 0.3009 - accuracy: 0.9767\n",
      "Epoch 13/100\n",
      "10/10 [==============================] - 0s 4ms/step - loss: 0.2727 - accuracy: 0.9700\n",
      "Epoch 14/100\n",
      "10/10 [==============================] - 0s 2ms/step - loss: 0.2365 - accuracy: 0.9767\n",
      "Epoch 15/100\n",
      "10/10 [==============================] - 0s 2ms/step - loss: 0.2134 - accuracy: 0.9767\n",
      "Epoch 16/100\n",
      "10/10 [==============================] - 0s 3ms/step - loss: 0.1915 - accuracy: 0.9800\n",
      "Epoch 17/100\n",
      "10/10 [==============================] - 0s 2ms/step - loss: 0.1742 - accuracy: 0.9767\n",
      "Epoch 18/100\n",
      "10/10 [==============================] - 0s 2ms/step - loss: 0.1602 - accuracy: 0.9800\n",
      "Epoch 19/100\n",
      "10/10 [==============================] - 0s 2ms/step - loss: 0.1474 - accuracy: 0.9767\n",
      "Epoch 20/100\n",
      "10/10 [==============================] - 0s 3ms/step - loss: 0.1400 - accuracy: 0.9733\n",
      "Epoch 21/100\n",
      "10/10 [==============================] - 0s 2ms/step - loss: 0.1261 - accuracy: 0.9800\n",
      "Epoch 22/100\n",
      "10/10 [==============================] - 0s 2ms/step - loss: 0.1202 - accuracy: 0.9800\n",
      "Epoch 23/100\n",
      "10/10 [==============================] - 0s 4ms/step - loss: 0.1140 - accuracy: 0.9767\n",
      "Epoch 24/100\n",
      "10/10 [==============================] - 0s 3ms/step - loss: 0.1085 - accuracy: 0.9767\n",
      "Epoch 25/100\n",
      "10/10 [==============================] - 0s 2ms/step - loss: 0.1026 - accuracy: 0.9767\n",
      "Epoch 26/100\n",
      "10/10 [==============================] - 0s 3ms/step - loss: 0.0971 - accuracy: 0.9800\n",
      "Epoch 27/100\n",
      "10/10 [==============================] - 0s 3ms/step - loss: 0.0938 - accuracy: 0.9800\n",
      "Epoch 28/100\n",
      "10/10 [==============================] - 0s 2ms/step - loss: 0.0897 - accuracy: 0.9800\n",
      "Epoch 29/100\n",
      "10/10 [==============================] - 0s 2ms/step - loss: 0.0869 - accuracy: 0.9833\n",
      "Epoch 30/100\n",
      "10/10 [==============================] - 0s 3ms/step - loss: 0.0850 - accuracy: 0.9800\n",
      "Epoch 31/100\n",
      "10/10 [==============================] - 0s 3ms/step - loss: 0.0821 - accuracy: 0.9800\n",
      "Epoch 32/100\n",
      "10/10 [==============================] - 0s 3ms/step - loss: 0.0827 - accuracy: 0.9800\n",
      "Epoch 33/100\n",
      "10/10 [==============================] - 0s 4ms/step - loss: 0.0789 - accuracy: 0.9800\n",
      "Epoch 34/100\n",
      "10/10 [==============================] - 0s 3ms/step - loss: 0.0785 - accuracy: 0.9800\n",
      "Epoch 35/100\n",
      "10/10 [==============================] - 0s 3ms/step - loss: 0.0790 - accuracy: 0.9767\n",
      "Epoch 36/100\n",
      "10/10 [==============================] - 0s 2ms/step - loss: 0.0756 - accuracy: 0.9800\n",
      "Epoch 37/100\n",
      "10/10 [==============================] - 0s 2ms/step - loss: 0.0721 - accuracy: 0.9800\n",
      "Epoch 38/100\n",
      "10/10 [==============================] - 0s 3ms/step - loss: 0.0774 - accuracy: 0.9767\n",
      "Epoch 39/100\n",
      "10/10 [==============================] - 0s 3ms/step - loss: 0.0702 - accuracy: 0.9800\n",
      "Epoch 40/100\n",
      "10/10 [==============================] - 0s 3ms/step - loss: 0.0667 - accuracy: 0.9800\n",
      "Epoch 41/100\n",
      "10/10 [==============================] - 0s 2ms/step - loss: 0.0652 - accuracy: 0.9833\n",
      "Epoch 42/100\n",
      "10/10 [==============================] - 0s 2ms/step - loss: 0.0652 - accuracy: 0.9833\n",
      "Epoch 43/100\n",
      "10/10 [==============================] - 0s 11ms/step - loss: 0.0637 - accuracy: 0.9867\n",
      "Epoch 44/100\n",
      "10/10 [==============================] - 0s 3ms/step - loss: 0.0651 - accuracy: 0.9833\n",
      "Epoch 45/100\n",
      "10/10 [==============================] - 0s 2ms/step - loss: 0.0622 - accuracy: 0.9867\n",
      "Epoch 46/100\n",
      "10/10 [==============================] - 0s 2ms/step - loss: 0.0606 - accuracy: 0.9867\n",
      "Epoch 47/100\n",
      "10/10 [==============================] - 0s 2ms/step - loss: 0.0601 - accuracy: 0.9867\n",
      "Epoch 48/100\n",
      "10/10 [==============================] - 0s 2ms/step - loss: 0.0605 - accuracy: 0.9833\n",
      "Epoch 49/100\n",
      "10/10 [==============================] - 0s 2ms/step - loss: 0.0592 - accuracy: 0.9867\n",
      "Epoch 50/100\n",
      "10/10 [==============================] - 0s 2ms/step - loss: 0.0599 - accuracy: 0.9833\n",
      "Epoch 51/100\n",
      "10/10 [==============================] - 0s 2ms/step - loss: 0.0576 - accuracy: 0.9867\n",
      "Epoch 52/100\n",
      "10/10 [==============================] - 0s 2ms/step - loss: 0.0680 - accuracy: 0.9800\n",
      "Epoch 53/100\n",
      "10/10 [==============================] - 0s 2ms/step - loss: 0.0596 - accuracy: 0.9833\n",
      "Epoch 54/100\n",
      "10/10 [==============================] - 0s 2ms/step - loss: 0.0597 - accuracy: 0.9833\n",
      "Epoch 55/100\n",
      "10/10 [==============================] - 0s 2ms/step - loss: 0.0560 - accuracy: 0.9833\n",
      "Epoch 56/100\n",
      "10/10 [==============================] - 0s 2ms/step - loss: 0.0547 - accuracy: 0.9867\n",
      "Epoch 57/100\n",
      "10/10 [==============================] - 0s 5ms/step - loss: 0.0567 - accuracy: 0.9833\n",
      "Epoch 58/100\n",
      "10/10 [==============================] - 0s 9ms/step - loss: 0.0547 - accuracy: 0.9867\n",
      "Epoch 59/100\n",
      "10/10 [==============================] - 0s 3ms/step - loss: 0.0543 - accuracy: 0.9867\n",
      "Epoch 60/100\n",
      "10/10 [==============================] - 0s 2ms/step - loss: 0.0539 - accuracy: 0.9833\n",
      "Epoch 61/100\n",
      "10/10 [==============================] - 0s 2ms/step - loss: 0.0534 - accuracy: 0.9867\n",
      "Epoch 62/100\n",
      "10/10 [==============================] - 0s 2ms/step - loss: 0.0546 - accuracy: 0.9833\n",
      "Epoch 63/100\n",
      "10/10 [==============================] - 0s 2ms/step - loss: 0.0530 - accuracy: 0.9867\n",
      "Epoch 64/100\n",
      "10/10 [==============================] - 0s 2ms/step - loss: 0.0528 - accuracy: 0.9867\n",
      "Epoch 65/100\n",
      "10/10 [==============================] - 0s 2ms/step - loss: 0.0519 - accuracy: 0.9867\n",
      "Epoch 66/100\n",
      "10/10 [==============================] - 0s 2ms/step - loss: 0.0535 - accuracy: 0.9833\n",
      "Epoch 67/100\n",
      "10/10 [==============================] - 0s 2ms/step - loss: 0.0536 - accuracy: 0.9833\n",
      "Epoch 68/100\n",
      "10/10 [==============================] - 0s 2ms/step - loss: 0.0602 - accuracy: 0.9800\n",
      "Epoch 69/100\n",
      "10/10 [==============================] - 0s 2ms/step - loss: 0.0518 - accuracy: 0.9867\n",
      "Epoch 70/100\n",
      "10/10 [==============================] - 0s 3ms/step - loss: 0.0535 - accuracy: 0.9833\n",
      "Epoch 71/100\n",
      "10/10 [==============================] - 0s 3ms/step - loss: 0.0529 - accuracy: 0.9833\n",
      "Epoch 72/100\n",
      "10/10 [==============================] - 0s 3ms/step - loss: 0.0514 - accuracy: 0.9867\n",
      "Epoch 73/100\n",
      "10/10 [==============================] - 0s 2ms/step - loss: 0.0502 - accuracy: 0.9867\n",
      "Epoch 74/100\n",
      "10/10 [==============================] - 0s 2ms/step - loss: 0.0504 - accuracy: 0.9867\n",
      "Epoch 75/100\n",
      "10/10 [==============================] - 0s 2ms/step - loss: 0.0507 - accuracy: 0.9833\n",
      "Epoch 76/100\n",
      "10/10 [==============================] - 0s 2ms/step - loss: 0.0499 - accuracy: 0.9867\n",
      "Epoch 77/100\n",
      "10/10 [==============================] - 0s 2ms/step - loss: 0.0496 - accuracy: 0.9867\n",
      "Epoch 78/100\n",
      "10/10 [==============================] - 0s 3ms/step - loss: 0.0503 - accuracy: 0.9833\n",
      "Epoch 79/100\n",
      "10/10 [==============================] - 0s 2ms/step - loss: 0.0520 - accuracy: 0.9833\n",
      "Epoch 80/100\n",
      "10/10 [==============================] - 0s 3ms/step - loss: 0.0593 - accuracy: 0.9800\n",
      "Epoch 81/100\n",
      "10/10 [==============================] - 0s 2ms/step - loss: 0.0523 - accuracy: 0.9833\n",
      "Epoch 82/100\n",
      "10/10 [==============================] - 0s 3ms/step - loss: 0.0498 - accuracy: 0.9867\n",
      "Epoch 83/100\n",
      "10/10 [==============================] - 0s 3ms/step - loss: 0.0514 - accuracy: 0.9833\n",
      "Epoch 84/100\n",
      "10/10 [==============================] - 0s 4ms/step - loss: 0.0495 - accuracy: 0.9867\n",
      "Epoch 85/100\n",
      "10/10 [==============================] - 0s 3ms/step - loss: 0.0480 - accuracy: 0.9867\n",
      "Epoch 86/100\n",
      "10/10 [==============================] - 0s 2ms/step - loss: 0.0487 - accuracy: 0.9867\n",
      "Epoch 87/100\n",
      "10/10 [==============================] - 0s 3ms/step - loss: 0.0536 - accuracy: 0.9833\n",
      "Epoch 88/100\n",
      "10/10 [==============================] - 0s 3ms/step - loss: 0.0489 - accuracy: 0.9833\n",
      "Epoch 89/100\n",
      "10/10 [==============================] - 0s 2ms/step - loss: 0.0476 - accuracy: 0.9867\n",
      "Epoch 90/100\n",
      "10/10 [==============================] - 0s 2ms/step - loss: 0.0476 - accuracy: 0.9867\n",
      "Epoch 91/100\n",
      "10/10 [==============================] - 0s 3ms/step - loss: 0.0478 - accuracy: 0.9867\n",
      "Epoch 92/100\n",
      "10/10 [==============================] - 0s 2ms/step - loss: 0.0496 - accuracy: 0.9867\n",
      "Epoch 93/100\n",
      "10/10 [==============================] - 0s 2ms/step - loss: 0.0474 - accuracy: 0.9867\n",
      "Epoch 94/100\n",
      "10/10 [==============================] - 0s 2ms/step - loss: 0.0472 - accuracy: 0.9867\n",
      "Epoch 95/100\n",
      "10/10 [==============================] - 0s 2ms/step - loss: 0.0473 - accuracy: 0.9867\n",
      "Epoch 96/100\n",
      "10/10 [==============================] - 0s 4ms/step - loss: 0.0466 - accuracy: 0.9867\n",
      "Epoch 97/100\n",
      "10/10 [==============================] - 0s 3ms/step - loss: 0.0466 - accuracy: 0.9867\n",
      "Epoch 98/100\n",
      "10/10 [==============================] - 0s 2ms/step - loss: 0.0486 - accuracy: 0.9833\n",
      "Epoch 99/100\n",
      "10/10 [==============================] - 0s 3ms/step - loss: 0.0491 - accuracy: 0.9833\n",
      "Epoch 100/100\n",
      "10/10 [==============================] - 0s 2ms/step - loss: 0.0465 - accuracy: 0.9867\n"
     ]
    }
   ],
   "source": [
    "hist = model.fit(xtrain,ytrain,epochs=100)"
   ]
  },
  {
   "cell_type": "code",
   "execution_count": 54,
   "metadata": {},
   "outputs": [
    {
     "data": {
      "text/plain": [
       "[<matplotlib.lines.Line2D at 0x7fb5f21d2d00>]"
      ]
     },
     "execution_count": 54,
     "metadata": {},
     "output_type": "execute_result"
    },
    {
     "data": {
      "image/png": "[encoded data removed]",
      "text/plain": [
       "<Figure size 432x288 with 1 Axes>"
      ]
     },
     "metadata": {
      "needs_background": "light"
     },
     "output_type": "display_data"
    }
   ],
   "source": [
    "plt.plot(hist.history[\"loss\"])"
   ]
  },
  {
   "cell_type": "code",
   "execution_count": 55,
   "metadata": {},
   "outputs": [
    {
     "data": {
      "text/plain": [
       "[<matplotlib.lines.Line2D at 0x7fb5f249d220>]"
      ]
     },
     "execution_count": 55,
     "metadata": {},
     "output_type": "execute_result"
    },
    {
     "data": {
      "image/png": "[encoded data removed]",
      "text/plain": [
       "<Figure size 432x288 with 1 Axes>"
      ]
     },
     "metadata": {
      "needs_background": "light"
     },
     "output_type": "display_data"
    }
   ],
   "source": [
    "plt.plot(hist.history[\"accuracy\"])"
   ]
  },
  {
   "cell_type": "code",
   "execution_count": 56,
   "metadata": {},
   "outputs": [],
   "source": [
    "def adjust_answers(answers):\n",
    "    \"\"\"\n",
    "    Method to take the answer vecotrs and make the elements either 0's or 1's. This is because the output of the ML \n",
    "    model is decimals and can be very small but not zero.\n",
    "    Parameters: \n",
    "        - answers: array or list like iterable of all answer vectors. \n",
    "    Returns: \n",
    "        - adjusted: array or list like iterable of all the asnwer vectors transformed to have 0's and 1's\n",
    "    \"\"\"\n",
    "    adjusted = []\n",
    "    for ans in answers:\n",
    "        # get max value and index of it for each array\n",
    "        tmp = []\n",
    "        m_val = np.amax(ans)\n",
    "        for elm in ans:\n",
    "            if elm != m_val:\n",
    "                tmp.append(0)\n",
    "            else:\n",
    "                tmp.append(1)\n",
    "        adjusted.append(tmp)\n",
    "    adjusted = np.asarray(adjusted)\n",
    "    return adjusted"
   ]
  },
  {
   "cell_type": "code",
   "execution_count": 57,
   "metadata": {},
   "outputs": [],
   "source": [
    "def inverse_transform_list(ans_arr, unique_val_arry):\n",
    "    \"\"\"\n",
    "    Method to take the inverse transform of an answer array\n",
    "    Parameters: \n",
    "        - ans_arry: array or list like iterable of the answers that the ML model predicted\n",
    "        - unique_val_array: array or list like iterable of all unique values that the ans can possible be \n",
    "    Returns:\n",
    "        - real_value_answer: array or list like iterable of the answers\n",
    "\"\"\"\n",
    "    transformed_list = []\n",
    "    for elm in ans_arr:\n",
    "        idx = np.where(elm == 1)\n",
    "        transformed_list.append(unique_val_arry[idx[0][0]])\n",
    "    return transformed_list"
   ]
  },
  {
   "cell_type": "code",
   "execution_count": 58,
   "metadata": {},
   "outputs": [],
   "source": [
    "preds = model.predict(xval)\n",
    "preds = adjust_answers(preds)\n",
    "preds = inverse_transform_list(preds, xlocs)"
   ]
  },
  {
   "cell_type": "code",
   "execution_count": 60,
   "metadata": {},
   "outputs": [],
   "source": [
    "yval = inverse_transform_list(yval, xlocs)"
   ]
  },
  {
   "cell_type": "code",
   "execution_count": 63,
   "metadata": {},
   "outputs": [],
   "source": [
    "from sklearn.metrics import mean_squared_error"
   ]
  },
  {
   "cell_type": "code",
   "execution_count": 64,
   "metadata": {},
   "outputs": [
    {
     "data": {
      "text/plain": [
       "0.0"
      ]
     },
     "execution_count": 64,
     "metadata": {},
     "output_type": "execute_result"
    }
   ],
   "source": [
    "mean_squared_error(yval, preds)"
   ]
  }
 ],
 "metadata": {
  "interpreter": {
   "hash": "aee8b7b246df8f9039afb4144a1f6fd8d2ca17a180786b69acc140d282b71a49"
  },
  "kernelspec": {
   "display_name": "Python 3.9.6 64-bit",
   "language": "python",
   "name": "python3"
  },
  "language_info": {
   "codemirror_mode": {
    "name": "ipython",
    "version": 3
   },
   "file_extension": ".py",
   "mimetype": "text/x-python",
   "name": "python",
   "nbconvert_exporter": "python",
   "pygments_lexer": "ipython3",
   "version": "3.9.6"
  },
  "orig_nbformat": 4
 },
 "nbformat": 4,
 "nbformat_minor": 2
}
